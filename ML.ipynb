{
  "cells": [
    {
      "cell_type": "code",
      "execution_count": null,
      "metadata": {
        "id": "WRVrLj4OtYIZ"
      },
      "outputs": [],
      "source": [
        "import numpy as np\n",
        "import pandas as pd\n",
        "import matplotlib.pyplot as plt\n",
        "%matplotlib inline\n",
        "import seaborn as sns\n",
        "import re,json,nltk\n",
        "from sklearn.preprocessing import LabelEncoder\n",
        "from sklearn.feature_extraction.text import TfidfVectorizer\n",
        "from sklearn.model_selection import train_test_split\n",
        "from sklearn.metrics import classification_report,accuracy_score,precision_score,recall_score,f1_score\n",
        "from tensorflow.keras.preprocessing.text import Tokenizer \n",
        "stopwords_list = 'bangla_stopwords.txt'\n",
        "class color: # Text style\n",
        "   PURPLE = '\\033[95m'\n",
        "   CYAN = '\\033[96m'\n",
        "   DARKCYAN = '\\033[36m'\n",
        "   BLUE = '\\033[94m'\n",
        "   GREEN = '\\033[92m'\n",
        "   YELLOW = '\\033[93m'\n",
        "   RED = '\\033[91m'\n",
        "   BOLD = '\\033[1m'\n",
        "   UNDERLINE = '\\033[4m'\n",
        "   END = '\\033[0m'"
      ]
    },
    {
      "cell_type": "code",
      "execution_count": null,
      "metadata": {
        "colab": {
          "base_uri": "https://localhost:8080/",
          "height": 363
        },
        "id": "X-iWIUKot6_8",
        "outputId": "10ecbe13-e2ca-4314-cdbd-6c7877be3308"
      },
      "outputs": [
        {
          "output_type": "execute_result",
          "data": {
            "text/plain": [
              "     id                                          text     label\n",
              "0   1.0  দুদিন আগে ঘুরে আসলাম।এখন জায়গাটা মিস করতেছি।  positive\n",
              "1   2.0                                   গান টা ভালো  positive\n",
              "2   3.0                               ছবিটা তো সেই 🤣🤣  positive\n",
              "3   4.0      দারুণ মানিয়েছে তোমাদের,, অনেক শুভকামনা 🤭  positive\n",
              "4   5.0                        ওরে চিটার, ওরে বাটপার।  negative\n",
              "5   6.0               আমার কিছুই বলার নাই এই ব্যাপারে   neutral\n",
              "6   7.0                        পাপ তার বাপকে ছাড়ে না।  negative\n",
              "7   8.0               ছেলেটার চেহেরা দেখে মায়া হচ্ছে।  positive\n",
              "8   9.0                     নরওয়ের কোথায় থাকেন আপনি??   neutral\n",
              "9  10.0     এজন্য নরওয়েকে বলা হয় \"নিশীথ সূর্যের দেশ\"।   neutral"
            ],
            "text/html": [
              "\n",
              "  <div id=\"df-b4c0f670-ff69-4fa4-a98d-5ba15110bee1\">\n",
              "    <div class=\"colab-df-container\">\n",
              "      <div>\n",
              "<style scoped>\n",
              "    .dataframe tbody tr th:only-of-type {\n",
              "        vertical-align: middle;\n",
              "    }\n",
              "\n",
              "    .dataframe tbody tr th {\n",
              "        vertical-align: top;\n",
              "    }\n",
              "\n",
              "    .dataframe thead th {\n",
              "        text-align: right;\n",
              "    }\n",
              "</style>\n",
              "<table border=\"1\" class=\"dataframe\">\n",
              "  <thead>\n",
              "    <tr style=\"text-align: right;\">\n",
              "      <th></th>\n",
              "      <th>id</th>\n",
              "      <th>text</th>\n",
              "      <th>label</th>\n",
              "    </tr>\n",
              "  </thead>\n",
              "  <tbody>\n",
              "    <tr>\n",
              "      <th>0</th>\n",
              "      <td>1.0</td>\n",
              "      <td>দুদিন আগে ঘুরে আসলাম।এখন জায়গাটা মিস করতেছি।</td>\n",
              "      <td>positive</td>\n",
              "    </tr>\n",
              "    <tr>\n",
              "      <th>1</th>\n",
              "      <td>2.0</td>\n",
              "      <td>গান টা ভালো</td>\n",
              "      <td>positive</td>\n",
              "    </tr>\n",
              "    <tr>\n",
              "      <th>2</th>\n",
              "      <td>3.0</td>\n",
              "      <td>ছবিটা তো সেই 🤣🤣</td>\n",
              "      <td>positive</td>\n",
              "    </tr>\n",
              "    <tr>\n",
              "      <th>3</th>\n",
              "      <td>4.0</td>\n",
              "      <td>দারুণ মানিয়েছে তোমাদের,, অনেক শুভকামনা 🤭</td>\n",
              "      <td>positive</td>\n",
              "    </tr>\n",
              "    <tr>\n",
              "      <th>4</th>\n",
              "      <td>5.0</td>\n",
              "      <td>ওরে চিটার, ওরে বাটপার।</td>\n",
              "      <td>negative</td>\n",
              "    </tr>\n",
              "    <tr>\n",
              "      <th>5</th>\n",
              "      <td>6.0</td>\n",
              "      <td>আমার কিছুই বলার নাই এই ব্যাপারে</td>\n",
              "      <td>neutral</td>\n",
              "    </tr>\n",
              "    <tr>\n",
              "      <th>6</th>\n",
              "      <td>7.0</td>\n",
              "      <td>পাপ তার বাপকে ছাড়ে না।</td>\n",
              "      <td>negative</td>\n",
              "    </tr>\n",
              "    <tr>\n",
              "      <th>7</th>\n",
              "      <td>8.0</td>\n",
              "      <td>ছেলেটার চেহেরা দেখে মায়া হচ্ছে।</td>\n",
              "      <td>positive</td>\n",
              "    </tr>\n",
              "    <tr>\n",
              "      <th>8</th>\n",
              "      <td>9.0</td>\n",
              "      <td>নরওয়ের কোথায় থাকেন আপনি??</td>\n",
              "      <td>neutral</td>\n",
              "    </tr>\n",
              "    <tr>\n",
              "      <th>9</th>\n",
              "      <td>10.0</td>\n",
              "      <td>এজন্য নরওয়েকে বলা হয় \"নিশীথ সূর্যের দেশ\"।</td>\n",
              "      <td>neutral</td>\n",
              "    </tr>\n",
              "  </tbody>\n",
              "</table>\n",
              "</div>\n",
              "      <button class=\"colab-df-convert\" onclick=\"convertToInteractive('df-b4c0f670-ff69-4fa4-a98d-5ba15110bee1')\"\n",
              "              title=\"Convert this dataframe to an interactive table.\"\n",
              "              style=\"display:none;\">\n",
              "        \n",
              "  <svg xmlns=\"http://www.w3.org/2000/svg\" height=\"24px\"viewBox=\"0 0 24 24\"\n",
              "       width=\"24px\">\n",
              "    <path d=\"M0 0h24v24H0V0z\" fill=\"none\"/>\n",
              "    <path d=\"M18.56 5.44l.94 2.06.94-2.06 2.06-.94-2.06-.94-.94-2.06-.94 2.06-2.06.94zm-11 1L8.5 8.5l.94-2.06 2.06-.94-2.06-.94L8.5 2.5l-.94 2.06-2.06.94zm10 10l.94 2.06.94-2.06 2.06-.94-2.06-.94-.94-2.06-.94 2.06-2.06.94z\"/><path d=\"M17.41 7.96l-1.37-1.37c-.4-.4-.92-.59-1.43-.59-.52 0-1.04.2-1.43.59L10.3 9.45l-7.72 7.72c-.78.78-.78 2.05 0 2.83L4 21.41c.39.39.9.59 1.41.59.51 0 1.02-.2 1.41-.59l7.78-7.78 2.81-2.81c.8-.78.8-2.07 0-2.86zM5.41 20L4 18.59l7.72-7.72 1.47 1.35L5.41 20z\"/>\n",
              "  </svg>\n",
              "      </button>\n",
              "      \n",
              "  <style>\n",
              "    .colab-df-container {\n",
              "      display:flex;\n",
              "      flex-wrap:wrap;\n",
              "      gap: 12px;\n",
              "    }\n",
              "\n",
              "    .colab-df-convert {\n",
              "      background-color: #E8F0FE;\n",
              "      border: none;\n",
              "      border-radius: 50%;\n",
              "      cursor: pointer;\n",
              "      display: none;\n",
              "      fill: #1967D2;\n",
              "      height: 32px;\n",
              "      padding: 0 0 0 0;\n",
              "      width: 32px;\n",
              "    }\n",
              "\n",
              "    .colab-df-convert:hover {\n",
              "      background-color: #E2EBFA;\n",
              "      box-shadow: 0px 1px 2px rgba(60, 64, 67, 0.3), 0px 1px 3px 1px rgba(60, 64, 67, 0.15);\n",
              "      fill: #174EA6;\n",
              "    }\n",
              "\n",
              "    [theme=dark] .colab-df-convert {\n",
              "      background-color: #3B4455;\n",
              "      fill: #D2E3FC;\n",
              "    }\n",
              "\n",
              "    [theme=dark] .colab-df-convert:hover {\n",
              "      background-color: #434B5C;\n",
              "      box-shadow: 0px 1px 3px 1px rgba(0, 0, 0, 0.15);\n",
              "      filter: drop-shadow(0px 1px 2px rgba(0, 0, 0, 0.3));\n",
              "      fill: #FFFFFF;\n",
              "    }\n",
              "  </style>\n",
              "\n",
              "      <script>\n",
              "        const buttonEl =\n",
              "          document.querySelector('#df-b4c0f670-ff69-4fa4-a98d-5ba15110bee1 button.colab-df-convert');\n",
              "        buttonEl.style.display =\n",
              "          google.colab.kernel.accessAllowed ? 'block' : 'none';\n",
              "\n",
              "        async function convertToInteractive(key) {\n",
              "          const element = document.querySelector('#df-b4c0f670-ff69-4fa4-a98d-5ba15110bee1');\n",
              "          const dataTable =\n",
              "            await google.colab.kernel.invokeFunction('convertToInteractive',\n",
              "                                                     [key], {});\n",
              "          if (!dataTable) return;\n",
              "\n",
              "          const docLinkHtml = 'Like what you see? Visit the ' +\n",
              "            '<a target=\"_blank\" href=https://colab.research.google.com/notebooks/data_table.ipynb>data table notebook</a>'\n",
              "            + ' to learn more about interactive tables.';\n",
              "          element.innerHTML = '';\n",
              "          dataTable['output_type'] = 'display_data';\n",
              "          await google.colab.output.renderOutput(dataTable, element);\n",
              "          const docLink = document.createElement('div');\n",
              "          docLink.innerHTML = docLinkHtml;\n",
              "          element.appendChild(docLink);\n",
              "        }\n",
              "      </script>\n",
              "    </div>\n",
              "  </div>\n",
              "  "
            ]
          },
          "metadata": {},
          "execution_count": 13
        }
      ],
      "source": [
        "data = pd.read_excel('dataset.xlsx')\n",
        "\n",
        "data.head(10)"
      ]
    },
    {
      "cell_type": "code",
      "execution_count": null,
      "metadata": {
        "id": "HtSN-OwIuC7I"
      },
      "outputs": [],
      "source": [
        "data.dropna(inplace=True)"
      ]
    },
    {
      "cell_type": "code",
      "execution_count": null,
      "metadata": {
        "colab": {
          "base_uri": "https://localhost:8080/"
        },
        "id": "J_K5U9sxuHMW",
        "outputId": "33786c84-6ef1-40d8-bc83-389a76dfce9b"
      },
      "outputs": [
        {
          "output_type": "stream",
          "name": "stdout",
          "text": [
            "Total Reviews: 12122 \n",
            "Total Positive Reviews: 4061 \n",
            "Total Negative Reviews: 4033 \n",
            "Total Neutral Reviews: 4028\n"
          ]
        }
      ],
      "source": [
        "print(\"Total Reviews:\",len(data),\n",
        "      \"\\nTotal Positive Reviews:\",len(data[data.label=='positive']),\n",
        "      \"\\nTotal Negative Reviews:\",len(data[data.label=='negative']),\n",
        "      \"\\nTotal Neutral Reviews:\",len(data[data.label=='neutral']))"
      ]
    },
    {
      "cell_type": "code",
      "execution_count": null,
      "metadata": {
        "colab": {
          "base_uri": "https://localhost:8080/"
        },
        "id": "FHvs_g1tuNi4",
        "outputId": "25f4c1a5-bc77-45a2-faa0-bde1efe0b261"
      },
      "outputs": [
        {
          "output_type": "execute_result",
          "data": {
            "text/plain": [
              "Index(['id', 'text', 'label'], dtype='object')"
            ]
          },
          "metadata": {},
          "execution_count": 16
        }
      ],
      "source": [
        "data.columns"
      ]
    },
    {
      "cell_type": "code",
      "execution_count": null,
      "metadata": {
        "colab": {
          "base_uri": "https://localhost:8080/"
        },
        "id": "lwsZcfHruQRB",
        "outputId": "09c22811-f10c-44f0-fc93-923efcd7319a"
      },
      "outputs": [
        {
          "output_type": "stream",
          "name": "stdout",
          "text": [
            "মানুষ তো আপনাদের গুলো দেখছেই তাই মিথ্যা নাটক আর দেখার প্রয়োজন নাই \n",
            " Sentiment:--  negative \n",
            "\n",
            "যুদ্ধ কখনো শান্তি আনতে পারবে না।এর ফল ভোগ করতে হতে পারে পুরো বিশ্বকে \n",
            " Sentiment:--  positive \n",
            "\n",
            "ব্যবসা করবি কর, ধর্ম নিয়ে কেন করবি। \n",
            " Sentiment:--  negative \n",
            "\n",
            "ধন্যবাদ আপনাকে এরকম একটা গুরুত্বপূর্ণ সংবাদ পরিচালনা করার জন্য \n",
            " Sentiment:--  positive \n",
            "\n",
            "কিছু বেকার থাকবেই অস্বাভাবিক নহে উন্নত রাষ্ট্রের যদি বেকার মানুষ থাকে তাহলে আমাদের মতো দেশে তো আর বেশি থাকার কথা।যাই হোক দোয়া করি যাতে বেকারত্ব দিন দিন কমে যাক বাংলাদেশের কেউ যাতে অকর্মঠ হয় সবাই কাজ করে খাক এই কামনাই রইল। \n",
            " Sentiment:--  negative \n",
            "\n",
            "বয়স কত আপনার? \n",
            " Sentiment:--  neutral \n",
            "\n",
            "যুদ্ধ নয় আলোচনার মাধ্যমে সমাধান হোক \n",
            " Sentiment:--  neutral \n",
            "\n",
            "হাসিনার নেতৃত্ব ছাড়া এমন সম্পর্ক অসম্ভব \n",
            " Sentiment:--  neutral \n",
            "\n",
            "তদন্ত শুরু হইলে তো শেষের প্রশ্ন আসতো। \n",
            " Sentiment:--  neutral \n",
            "\n",
            "সরকরের পা চেটে সাবার করছেন, আবার দাবি করেন নিরপেক্ষ নির্বাচন কমিশন। \n",
            " Sentiment:--  negative \n",
            "\n",
            "যুদ্ধ নয় আলোচনার মাধ্যমে সমাধান হোক \n",
            " Sentiment:--  neutral \n",
            "\n",
            "এই সংবাদ পড়ার পর ব্যাংকে টাকা আছে এমন লোকেরা নিশ্চিত আতংকে থাকবেন। \n",
            " Sentiment:--  neutral \n",
            "\n",
            "আলহামদুলিল্লাহ উনি হারানো লাগেজ পেয়েছেন। \n",
            " Sentiment:--  positive \n",
            "\n",
            "সরকারী চাকুরীতে ঘুষ খেলেও চাকুরীতে থাকা যায়। শুধু মাত্র দপ্তর পরিবরতন হয়। আজব আমাদের এই দেশ। \n",
            " Sentiment:--  neutral \n",
            "\n",
            "এটি খুবই প্রশংসনীয় উদ্যোগ। \n",
            " Sentiment:--  positive \n",
            "\n"
          ]
        }
      ],
      "source": [
        "sample_data = [10,100,150,200,250,600,650,666,689,640,650,700,750,800,1000]\n",
        "for i in sample_data:\n",
        "      print(data.text[i],'\\n','Sentiment:-- ',data.label[i],'\\n')"
      ]
    },
    {
      "cell_type": "code",
      "source": [
        "data"
      ],
      "metadata": {
        "id": "k0usQCMwQ8uP"
      },
      "execution_count": null,
      "outputs": []
    },
    {
      "cell_type": "code",
      "execution_count": null,
      "metadata": {
        "id": "HbtnIKWKuTJJ",
        "colab": {
          "base_uri": "https://localhost:8080/",
          "height": 272
        },
        "outputId": "72ede47f-6c98-448e-f67e-aee881569565"
      },
      "outputs": [
        {
          "output_type": "display_data",
          "data": {
            "text/plain": [
              "<Figure size 648x216 with 1 Axes>"
            ],
            "image/png": "[encoded data removed]"
          },
          "metadata": {}
        }
      ],
      "source": [
        "sns.set(font_scale=1.4)\n",
        "data['label'].value_counts().plot(kind='barh', figsize=(9, 3))\n",
        "plt.xlabel(\"Number of Comments\", labelpad=12)\n",
        "plt.ylabel(\"Sentiment Class\", labelpad=12)\n",
        "plt.yticks(rotation = 45)\n",
        "plt.title(\"Dataset Distribution\", y=1.02);"
      ]
    },
    {
      "cell_type": "code",
      "execution_count": null,
      "metadata": {
        "colab": {
          "base_uri": "https://localhost:8080/"
        },
        "id": "9nfZXKfPuaEB",
        "outputId": "4988a422-93bd-49fb-ee16-20e28ff1fbf8"
      },
      "outputs": [
        {
          "output_type": "stream",
          "name": "stdout",
          "text": [
            "[nltk_data] Downloading package punkt to /root/nltk_data...\n",
            "[nltk_data]   Package punkt is already up-to-date!\n"
          ]
        },
        {
          "output_type": "execute_result",
          "data": {
            "text/plain": [
              "True"
            ]
          },
          "metadata": {},
          "execution_count": 19
        }
      ],
      "source": [
        "import nltk\n",
        "nltk.download('punkt')"
      ]
    },
    {
      "cell_type": "code",
      "execution_count": null,
      "metadata": {
        "id": "amlP7tlouczE"
      },
      "outputs": [],
      "source": [
        "stopwords_list ='bangla_stopwords.txt'"
      ]
    },
    {
      "cell_type": "code",
      "execution_count": null,
      "metadata": {
        "id": "E-l0i3Aguf0C"
      },
      "outputs": [],
      "source": [
        "import re\n",
        "from nltk.tokenize import word_tokenize\n",
        "def process_reviews(reviews): \n",
        "    #Unnecessary punctuation,emoji,number remove\n",
        "    reviews = re.sub('[^\\u0980-\\u09FF]',' ',str(reviews)) \n",
        "    \n",
        "    #tokenize\n",
        "    result =  word_tokenize(str(reviews))\n",
        "    \n",
        "    #Stopword remove\n",
        "    stpw = open(stopwords_list,'r',encoding='utf-8').read()\n",
        "    result = reviews.split()\n",
        "    reviews = [word.strip() for word in result if word not in stpw ]\n",
        "    reviews =\" \".join(reviews)\n",
        "    return reviews"
      ]
    },
    {
      "cell_type": "code",
      "execution_count": null,
      "metadata": {
        "colab": {
          "base_uri": "https://localhost:8080/"
        },
        "id": "eEFoQDROuivK",
        "outputId": "d26cb92c-096c-40e2-c457-659052f4b777"
      },
      "outputs": [
        {
          "output_type": "stream",
          "name": "stdout",
          "text": [
            "Original Review: সার্ভিসটা খুব ভাল এবং খাবারের মান ও খুব ভাল।\n",
            "Cleaned Review: সার্ভিসটা ভাল খাবারের মান ভাল\n"
          ]
        }
      ],
      "source": [
        "data['cleaned_Reviews'] = data['text'].apply(process_reviews)  \n",
        "\n",
        "sample_data ='সার্ভিসটা খুব ভাল এবং খাবারের মান ও খুব ভাল।'\n",
        "cl_review=process_reviews(sample_data)\n",
        "print(\"Original Review:\",sample_data)\n",
        "print(\"Cleaned Review:\",cl_review)"
      ]
    },
    {
      "cell_type": "code",
      "execution_count": null,
      "metadata": {
        "id": "XR-jysbyul5B"
      },
      "outputs": [],
      "source": [
        "data['length'] = data['cleaned_Reviews'].apply(lambda x:len(x.split()))\n",
        "\n",
        "# Remove the reviews with least words\n",
        "dataset = data.loc[data.length>2]\n",
        "dataset = data.reset_index(drop = True)"
      ]
    },
    {
      "cell_type": "code",
      "execution_count": null,
      "metadata": {
        "colab": {
          "base_uri": "https://localhost:8080/"
        },
        "id": "nysgwk3WupIa",
        "outputId": "1cf066e7-9fb9-4239-d5ab-2869b9faa2b9"
      },
      "outputs": [
        {
          "output_type": "stream",
          "name": "stdout",
          "text": [
            "Maximum Length of a Review: 74\n",
            "Minimum Length of a Review: 0\n",
            "Average Length of a Review: 11.0\n"
          ]
        }
      ],
      "source": [
        "print(\"Maximum Length of a Review:\",max(dataset.length))\n",
        "print(\"Minimum Length of a Review:\", min(dataset.length))\n",
        "print(\"Average Length of a Review:\",round(np.mean(dataset.length),0))"
      ]
    },
    {
      "cell_type": "code",
      "execution_count": null,
      "metadata": {
        "colab": {
          "base_uri": "https://localhost:8080/",
          "height": 206
        },
        "id": "Pt2hX3druuTj",
        "outputId": "c0df0eb1-f447-4a8f-f377-fe1c76406da2"
      },
      "outputs": [
        {
          "output_type": "execute_result",
          "data": {
            "text/plain": [
              "                       cleaned_Reviews     label\n",
              "0  দুদিন ঘুরে আসলাম জায়গাটা মিস করতেছি  positive\n",
              "1                             গান ভালো  positive\n",
              "2                                ছবিটা  positive\n",
              "3      দারুণ মানিয়েছে তোমাদের শুভকামনা  positive\n",
              "4                 ওরে চিটার ওরে বাটপার  negative"
            ],
            "text/html": [
              "\n",
              "  <div id=\"df-3449fa03-2c33-4201-9657-052b8db8a11c\">\n",
              "    <div class=\"colab-df-container\">\n",
              "      <div>\n",
              "<style scoped>\n",
              "    .dataframe tbody tr th:only-of-type {\n",
              "        vertical-align: middle;\n",
              "    }\n",
              "\n",
              "    .dataframe tbody tr th {\n",
              "        vertical-align: top;\n",
              "    }\n",
              "\n",
              "    .dataframe thead th {\n",
              "        text-align: right;\n",
              "    }\n",
              "</style>\n",
              "<table border=\"1\" class=\"dataframe\">\n",
              "  <thead>\n",
              "    <tr style=\"text-align: right;\">\n",
              "      <th></th>\n",
              "      <th>cleaned_Reviews</th>\n",
              "      <th>label</th>\n",
              "    </tr>\n",
              "  </thead>\n",
              "  <tbody>\n",
              "    <tr>\n",
              "      <th>0</th>\n",
              "      <td>দুদিন ঘুরে আসলাম জায়গাটা মিস করতেছি</td>\n",
              "      <td>positive</td>\n",
              "    </tr>\n",
              "    <tr>\n",
              "      <th>1</th>\n",
              "      <td>গান ভালো</td>\n",
              "      <td>positive</td>\n",
              "    </tr>\n",
              "    <tr>\n",
              "      <th>2</th>\n",
              "      <td>ছবিটা</td>\n",
              "      <td>positive</td>\n",
              "    </tr>\n",
              "    <tr>\n",
              "      <th>3</th>\n",
              "      <td>দারুণ মানিয়েছে তোমাদের শুভকামনা</td>\n",
              "      <td>positive</td>\n",
              "    </tr>\n",
              "    <tr>\n",
              "      <th>4</th>\n",
              "      <td>ওরে চিটার ওরে বাটপার</td>\n",
              "      <td>negative</td>\n",
              "    </tr>\n",
              "  </tbody>\n",
              "</table>\n",
              "</div>\n",
              "      <button class=\"colab-df-convert\" onclick=\"convertToInteractive('df-3449fa03-2c33-4201-9657-052b8db8a11c')\"\n",
              "              title=\"Convert this dataframe to an interactive table.\"\n",
              "              style=\"display:none;\">\n",
              "        \n",
              "  <svg xmlns=\"http://www.w3.org/2000/svg\" height=\"24px\"viewBox=\"0 0 24 24\"\n",
              "       width=\"24px\">\n",
              "    <path d=\"M0 0h24v24H0V0z\" fill=\"none\"/>\n",
              "    <path d=\"M18.56 5.44l.94 2.06.94-2.06 2.06-.94-2.06-.94-.94-2.06-.94 2.06-2.06.94zm-11 1L8.5 8.5l.94-2.06 2.06-.94-2.06-.94L8.5 2.5l-.94 2.06-2.06.94zm10 10l.94 2.06.94-2.06 2.06-.94-2.06-.94-.94-2.06-.94 2.06-2.06.94z\"/><path d=\"M17.41 7.96l-1.37-1.37c-.4-.4-.92-.59-1.43-.59-.52 0-1.04.2-1.43.59L10.3 9.45l-7.72 7.72c-.78.78-.78 2.05 0 2.83L4 21.41c.39.39.9.59 1.41.59.51 0 1.02-.2 1.41-.59l7.78-7.78 2.81-2.81c.8-.78.8-2.07 0-2.86zM5.41 20L4 18.59l7.72-7.72 1.47 1.35L5.41 20z\"/>\n",
              "  </svg>\n",
              "      </button>\n",
              "      \n",
              "  <style>\n",
              "    .colab-df-container {\n",
              "      display:flex;\n",
              "      flex-wrap:wrap;\n",
              "      gap: 12px;\n",
              "    }\n",
              "\n",
              "    .colab-df-convert {\n",
              "      background-color: #E8F0FE;\n",
              "      border: none;\n",
              "      border-radius: 50%;\n",
              "      cursor: pointer;\n",
              "      display: none;\n",
              "      fill: #1967D2;\n",
              "      height: 32px;\n",
              "      padding: 0 0 0 0;\n",
              "      width: 32px;\n",
              "    }\n",
              "\n",
              "    .colab-df-convert:hover {\n",
              "      background-color: #E2EBFA;\n",
              "      box-shadow: 0px 1px 2px rgba(60, 64, 67, 0.3), 0px 1px 3px 1px rgba(60, 64, 67, 0.15);\n",
              "      fill: #174EA6;\n",
              "    }\n",
              "\n",
              "    [theme=dark] .colab-df-convert {\n",
              "      background-color: #3B4455;\n",
              "      fill: #D2E3FC;\n",
              "    }\n",
              "\n",
              "    [theme=dark] .colab-df-convert:hover {\n",
              "      background-color: #434B5C;\n",
              "      box-shadow: 0px 1px 3px 1px rgba(0, 0, 0, 0.15);\n",
              "      filter: drop-shadow(0px 1px 2px rgba(0, 0, 0, 0.3));\n",
              "      fill: #FFFFFF;\n",
              "    }\n",
              "  </style>\n",
              "\n",
              "      <script>\n",
              "        const buttonEl =\n",
              "          document.querySelector('#df-3449fa03-2c33-4201-9657-052b8db8a11c button.colab-df-convert');\n",
              "        buttonEl.style.display =\n",
              "          google.colab.kernel.accessAllowed ? 'block' : 'none';\n",
              "\n",
              "        async function convertToInteractive(key) {\n",
              "          const element = document.querySelector('#df-3449fa03-2c33-4201-9657-052b8db8a11c');\n",
              "          const dataTable =\n",
              "            await google.colab.kernel.invokeFunction('convertToInteractive',\n",
              "                                                     [key], {});\n",
              "          if (!dataTable) return;\n",
              "\n",
              "          const docLinkHtml = 'Like what you see? Visit the ' +\n",
              "            '<a target=\"_blank\" href=https://colab.research.google.com/notebooks/data_table.ipynb>data table notebook</a>'\n",
              "            + ' to learn more about interactive tables.';\n",
              "          element.innerHTML = '';\n",
              "          dataTable['output_type'] = 'display_data';\n",
              "          await google.colab.output.renderOutput(dataTable, element);\n",
              "          const docLink = document.createElement('div');\n",
              "          docLink.innerHTML = docLinkHtml;\n",
              "          element.appendChild(docLink);\n",
              "        }\n",
              "      </script>\n",
              "    </div>\n",
              "  </div>\n",
              "  "
            ]
          },
          "metadata": {},
          "execution_count": 25
        }
      ],
      "source": [
        "dataset=dataset[['cleaned_Reviews','label']]\n",
        "dataset.head(5)"
      ]
    },
    {
      "cell_type": "code",
      "execution_count": null,
      "metadata": {
        "colab": {
          "base_uri": "https://localhost:8080/"
        },
        "id": "Psr36gpNuxhi",
        "outputId": "b4e10910-713d-409d-ccd8-67e6f2c024d0"
      },
      "outputs": [
        {
          "output_type": "stream",
          "name": "stdout",
          "text": [
            "\n",
            "Class Name :  positive\n",
            "Number of Documents:4061\n",
            "Number of Words:45322\n",
            "Number of Unique Words:13643\n",
            "Most Frequent Words:\n",
            "\n",
            "ভালো\t379\n",
            "কথা\t243\n",
            "দেশের\t229\n",
            "একটা\t205\n",
            "ভাল\t204\n",
            "ধন্যবাদ\t190\n",
            "সাথে\t184\n",
            "বাংলাদেশ\t181\n",
            "বাংলাদেশের\t172\n",
            "হয়ে\t168\n",
            "\n",
            "Class Name :  negative\n",
            "Number of Documents:4033\n",
            "Number of Words:46296\n",
            "Number of Unique Words:13470\n",
            "Most Frequent Words:\n",
            "\n",
            "টাকা\t383\n",
            "কথা\t286\n",
            "দেশের\t233\n",
            "হয়ে\t221\n",
            "দিয়ে\t215\n",
            "সরকার\t209\n",
            "যায়\t205\n",
            "দেশে\t179\n",
            "মানুষ\t172\n",
            "একটা\t164\n",
            "\n",
            "Class Name :  neutral\n",
            "Number of Documents:4028\n",
            "Number of Words:37856\n",
            "Number of Unique Words:12711\n",
            "Most Frequent Words:\n",
            "\n",
            "কথা\t203\n",
            "টাকা\t172\n",
            "হয়ে\t168\n",
            "একটা\t162\n",
            "সাথে\t155\n",
            "দেশের\t154\n",
            "যায়\t144\n",
            "ভালো\t138\n",
            "দিয়ে\t136\n",
            "হয়েছে\t118\n",
            "Total Number of Unique Words:26744\n"
          ]
        }
      ],
      "source": [
        "#Dataset Summary\n",
        "\n",
        "def data_summary(dataset):\n",
        "    \n",
        "    documents = []\n",
        "    words = []\n",
        "    u_words = []\n",
        "    total_u_words = [word.strip() for t in list(dataset.cleaned_Reviews) for word in t.strip().split()]\n",
        "    class_label= [k for k,v in dataset.label.value_counts().to_dict().items()]\n",
        "  # find word list\n",
        "    for label in class_label: \n",
        "        word_list = [word.strip() for t in list(dataset[dataset.label==label].cleaned_Reviews) for word in t.strip().split()]\n",
        "        counts = dict()\n",
        "        for word in word_list:\n",
        "                counts[word] = counts.get(word, 0)+1\n",
        "                \n",
        "        # sort the dictionary of word list  \n",
        "        ordered = sorted(counts.items(), key= lambda item: item[1],reverse = True)\n",
        "        \n",
        "        # Documents per class\n",
        "        documents.append(len(list(dataset[dataset.label==label].cleaned_Reviews)))\n",
        "        \n",
        "        # Total Word per class\n",
        "        words.append(len(word_list))\n",
        "        \n",
        "        # Unique words per class \n",
        "        u_words.append(len(np.unique(word_list)))\n",
        "       \n",
        "        print(\"\\nClass Name : \",label)\n",
        "        print(\"Number of Documents:{}\".format(len(list(dataset[dataset.label==label].cleaned_Reviews))))  \n",
        "        print(\"Number of Words:{}\".format(len(word_list))) \n",
        "        print(\"Number of Unique Words:{}\".format(len(np.unique(word_list)))) \n",
        "        print(\"Most Frequent Words:\\n\")\n",
        "        for k,v in ordered[:10]:\n",
        "              print(\"{}\\t{}\".format(k,v))\n",
        "                \n",
        "    print(\"Total Number of Unique Words:{}\".format(len(np.unique(total_u_words))))           \n",
        "   \n",
        "    return documents,words,u_words,class_label\n",
        "\n",
        "\n",
        "documents,words,u_words,class_names = data_summary(dataset)   "
      ]
    },
    {
      "cell_type": "code",
      "execution_count": null,
      "metadata": {
        "colab": {
          "base_uri": "https://localhost:8080/",
          "height": 369
        },
        "id": "L_EWu_zFu2I6",
        "outputId": "aaf05a94-4533-4cdc-970a-bd5cb6a6c389"
      },
      "outputs": [
        {
          "output_type": "display_data",
          "data": {
            "text/plain": [
              "<Figure size 864x360 with 1 Axes>"
            ],
            "image/png": "[encoded data removed]"
          },
          "metadata": {}
        }
      ],
      "source": [
        "data_matrix = pd.DataFrame({'Total Documents':documents,'Total Words':words,'Unique Words':u_words,'Class Names':class_names})\n",
        "\n",
        "df = pd.melt(data_matrix, id_vars=\"Class Names\", var_name=\"Category\", value_name=\"Values\")\n",
        "sns.set(font_scale=1.4,palette='Set1')\n",
        "plt.figure(figsize=(12, 5))\n",
        "ax = plt.subplot()\n",
        "\n",
        "sns.barplot(data=df,x='Class Names', y='Values' ,hue='Category')\n",
        "ax.set_xlabel('Class Names') \n",
        "ax.set_title('Data Statistics')\n",
        "\n",
        "ax.xaxis.set_ticklabels(class_names, rotation=0);"
      ]
    },
    {
      "cell_type": "code",
      "execution_count": null,
      "metadata": {
        "colab": {
          "base_uri": "https://localhost:8080/",
          "height": 206
        },
        "id": "XD40pCMSu6k3",
        "outputId": "8749eedf-6948-4e4e-8500-82f5f24e24fa"
      },
      "outputs": [
        {
          "output_type": "execute_result",
          "data": {
            "text/plain": [
              "                       cleaned_Reviews  label\n",
              "0  দুদিন ঘুরে আসলাম জায়গাটা মিস করতেছি      1\n",
              "1                             গান ভালো      1\n",
              "2                                ছবিটা      1\n",
              "3      দারুণ মানিয়েছে তোমাদের শুভকামনা      1\n",
              "4                 ওরে চিটার ওরে বাটপার      0"
            ],
            "text/html": [
              "\n",
              "  <div id=\"df-b0f78690-e7d1-41a0-b5bf-37e42f020788\">\n",
              "    <div class=\"colab-df-container\">\n",
              "      <div>\n",
              "<style scoped>\n",
              "    .dataframe tbody tr th:only-of-type {\n",
              "        vertical-align: middle;\n",
              "    }\n",
              "\n",
              "    .dataframe tbody tr th {\n",
              "        vertical-align: top;\n",
              "    }\n",
              "\n",
              "    .dataframe thead th {\n",
              "        text-align: right;\n",
              "    }\n",
              "</style>\n",
              "<table border=\"1\" class=\"dataframe\">\n",
              "  <thead>\n",
              "    <tr style=\"text-align: right;\">\n",
              "      <th></th>\n",
              "      <th>cleaned_Reviews</th>\n",
              "      <th>label</th>\n",
              "    </tr>\n",
              "  </thead>\n",
              "  <tbody>\n",
              "    <tr>\n",
              "      <th>0</th>\n",
              "      <td>দুদিন ঘুরে আসলাম জায়গাটা মিস করতেছি</td>\n",
              "      <td>1</td>\n",
              "    </tr>\n",
              "    <tr>\n",
              "      <th>1</th>\n",
              "      <td>গান ভালো</td>\n",
              "      <td>1</td>\n",
              "    </tr>\n",
              "    <tr>\n",
              "      <th>2</th>\n",
              "      <td>ছবিটা</td>\n",
              "      <td>1</td>\n",
              "    </tr>\n",
              "    <tr>\n",
              "      <th>3</th>\n",
              "      <td>দারুণ মানিয়েছে তোমাদের শুভকামনা</td>\n",
              "      <td>1</td>\n",
              "    </tr>\n",
              "    <tr>\n",
              "      <th>4</th>\n",
              "      <td>ওরে চিটার ওরে বাটপার</td>\n",
              "      <td>0</td>\n",
              "    </tr>\n",
              "  </tbody>\n",
              "</table>\n",
              "</div>\n",
              "      <button class=\"colab-df-convert\" onclick=\"convertToInteractive('df-b0f78690-e7d1-41a0-b5bf-37e42f020788')\"\n",
              "              title=\"Convert this dataframe to an interactive table.\"\n",
              "              style=\"display:none;\">\n",
              "        \n",
              "  <svg xmlns=\"http://www.w3.org/2000/svg\" height=\"24px\"viewBox=\"0 0 24 24\"\n",
              "       width=\"24px\">\n",
              "    <path d=\"M0 0h24v24H0V0z\" fill=\"none\"/>\n",
              "    <path d=\"M18.56 5.44l.94 2.06.94-2.06 2.06-.94-2.06-.94-.94-2.06-.94 2.06-2.06.94zm-11 1L8.5 8.5l.94-2.06 2.06-.94-2.06-.94L8.5 2.5l-.94 2.06-2.06.94zm10 10l.94 2.06.94-2.06 2.06-.94-2.06-.94-.94-2.06-.94 2.06-2.06.94z\"/><path d=\"M17.41 7.96l-1.37-1.37c-.4-.4-.92-.59-1.43-.59-.52 0-1.04.2-1.43.59L10.3 9.45l-7.72 7.72c-.78.78-.78 2.05 0 2.83L4 21.41c.39.39.9.59 1.41.59.51 0 1.02-.2 1.41-.59l7.78-7.78 2.81-2.81c.8-.78.8-2.07 0-2.86zM5.41 20L4 18.59l7.72-7.72 1.47 1.35L5.41 20z\"/>\n",
              "  </svg>\n",
              "      </button>\n",
              "      \n",
              "  <style>\n",
              "    .colab-df-container {\n",
              "      display:flex;\n",
              "      flex-wrap:wrap;\n",
              "      gap: 12px;\n",
              "    }\n",
              "\n",
              "    .colab-df-convert {\n",
              "      background-color: #E8F0FE;\n",
              "      border: none;\n",
              "      border-radius: 50%;\n",
              "      cursor: pointer;\n",
              "      display: none;\n",
              "      fill: #1967D2;\n",
              "      height: 32px;\n",
              "      padding: 0 0 0 0;\n",
              "      width: 32px;\n",
              "    }\n",
              "\n",
              "    .colab-df-convert:hover {\n",
              "      background-color: #E2EBFA;\n",
              "      box-shadow: 0px 1px 2px rgba(60, 64, 67, 0.3), 0px 1px 3px 1px rgba(60, 64, 67, 0.15);\n",
              "      fill: #174EA6;\n",
              "    }\n",
              "\n",
              "    [theme=dark] .colab-df-convert {\n",
              "      background-color: #3B4455;\n",
              "      fill: #D2E3FC;\n",
              "    }\n",
              "\n",
              "    [theme=dark] .colab-df-convert:hover {\n",
              "      background-color: #434B5C;\n",
              "      box-shadow: 0px 1px 3px 1px rgba(0, 0, 0, 0.15);\n",
              "      filter: drop-shadow(0px 1px 2px rgba(0, 0, 0, 0.3));\n",
              "      fill: #FFFFFF;\n",
              "    }\n",
              "  </style>\n",
              "\n",
              "      <script>\n",
              "        const buttonEl =\n",
              "          document.querySelector('#df-b0f78690-e7d1-41a0-b5bf-37e42f020788 button.colab-df-convert');\n",
              "        buttonEl.style.display =\n",
              "          google.colab.kernel.accessAllowed ? 'block' : 'none';\n",
              "\n",
              "        async function convertToInteractive(key) {\n",
              "          const element = document.querySelector('#df-b0f78690-e7d1-41a0-b5bf-37e42f020788');\n",
              "          const dataTable =\n",
              "            await google.colab.kernel.invokeFunction('convertToInteractive',\n",
              "                                                     [key], {});\n",
              "          if (!dataTable) return;\n",
              "\n",
              "          const docLinkHtml = 'Like what you see? Visit the ' +\n",
              "            '<a target=\"_blank\" href=https://colab.research.google.com/notebooks/data_table.ipynb>data table notebook</a>'\n",
              "            + ' to learn more about interactive tables.';\n",
              "          element.innerHTML = '';\n",
              "          dataTable['output_type'] = 'display_data';\n",
              "          await google.colab.output.renderOutput(dataTable, element);\n",
              "          const docLink = document.createElement('div');\n",
              "          docLink.innerHTML = docLinkHtml;\n",
              "          element.appendChild(docLink);\n",
              "        }\n",
              "      </script>\n",
              "    </div>\n",
              "  </div>\n",
              "  "
            ]
          },
          "metadata": {},
          "execution_count": 28
        }
      ],
      "source": [
        "dataset['label']=dataset['label'].replace({'positive':1,'negative':0,'neutral':2})\n",
        "dataset.head()"
      ]
    },
    {
      "cell_type": "code",
      "execution_count": null,
      "metadata": {
        "colab": {
          "base_uri": "https://localhost:8080/"
        },
        "id": "nc0NUK_3u-AX",
        "outputId": "61d53c49-45a9-4852-bbca-bf9a0d0321b4"
      },
      "outputs": [
        {
          "output_type": "execute_result",
          "data": {
            "text/plain": [
              "0        1\n",
              "1        1\n",
              "2        1\n",
              "3        1\n",
              "4        0\n",
              "        ..\n",
              "12117    2\n",
              "12118    2\n",
              "12119    2\n",
              "12120    2\n",
              "12121    2\n",
              "Name: label, Length: 12122, dtype: int64"
            ]
          },
          "metadata": {},
          "execution_count": 29
        }
      ],
      "source": [
        "labels=dataset.label\n",
        "labels"
      ]
    },
    {
      "cell_type": "code",
      "execution_count": null,
      "metadata": {
        "colab": {
          "base_uri": "https://localhost:8080/"
        },
        "id": "gLTsSrrbu6t4",
        "outputId": "3bb74033-096e-4654-ed8f-7c2b9e21c286"
      },
      "outputs": [
        {
          "output_type": "stream",
          "name": "stdout",
          "text": [
            "Shape of TF-IDF: (12122, 26744) \n",
            "\n"
          ]
        }
      ],
      "source": [
        "from sklearn.feature_extraction.text import TfidfVectorizer\n",
        "tfidf1 = TfidfVectorizer(ngram_range=(1,1),use_idf=True,tokenizer=lambda x: x.split()) \n",
        "X = tfidf1.fit_transform(dataset['cleaned_Reviews'])\n",
        "y=dataset['label']\n",
        "print(\"Shape of TF-IDF:\",X.shape,'\\n')"
      ]
    },
    {
      "cell_type": "code",
      "source": [
        "from imblearn.over_sampling import SMOTE\n",
        "from collections import Counter\n",
        "from matplotlib import pyplot"
      ],
      "metadata": {
        "id": "SSLHuJNhitWj"
      },
      "execution_count": null,
      "outputs": []
    },
    {
      "cell_type": "code",
      "source": [
        "oversample = SMOTE()\n",
        "X, y = oversample.fit_resample(X, y)"
      ],
      "metadata": {
        "id": "lUGXkLa4inws"
      },
      "execution_count": null,
      "outputs": []
    },
    {
      "cell_type": "code",
      "source": [
        "counter = Counter(y)\n",
        "for k,v in counter.items():\n",
        "    per = v / len(y) * 100\n",
        "    print('Class=%d, n=%d (%.3f%%)' % (k, v, per))\n",
        "pyplot.bar(counter.keys(), counter.values())\n",
        "pyplot.show()"
      ],
      "metadata": {
        "colab": {
          "base_uri": "https://localhost:8080/",
          "height": 325
        },
        "id": "Brpo2lkKi3zU",
        "outputId": "fa8b863b-92cb-44a8-b87d-6483f47b1147"
      },
      "execution_count": null,
      "outputs": [
        {
          "output_type": "stream",
          "name": "stdout",
          "text": [
            "Class=1, n=4061 (33.333%)\n",
            "Class=0, n=4061 (33.333%)\n",
            "Class=2, n=4061 (33.333%)\n"
          ]
        },
        {
          "output_type": "display_data",
          "data": {
            "text/plain": [
              "<Figure size 432x288 with 1 Axes>"
            ],
            "image/png": "[encoded data removed]"
          },
          "metadata": {}
        }
      ]
    },
    {
      "cell_type": "code",
      "execution_count": null,
      "metadata": {
        "colab": {
          "base_uri": "https://localhost:8080/"
        },
        "id": "eUOLoU4OvI3y",
        "outputId": "224feafd-f113-4726-bd76-8021d960a684"
      },
      "outputs": [
        {
          "output_type": "stream",
          "name": "stdout",
          "text": [
            "Sample Review:  দারুণ মানিয়েছে তোমাদের শুভকামনা\t\n",
            "             tfidf\n",
            "মানিয়েছে  0.614470\n",
            "দারুণ     0.479038\n",
            "তোমাদের   0.447460\n",
            "শুভকামনা  0.439009\n"
          ]
        },
        {
          "output_type": "stream",
          "name": "stderr",
          "text": [
            "/usr/local/lib/python3.7/dist-packages/sklearn/utils/deprecation.py:87: FutureWarning: Function get_feature_names is deprecated; get_feature_names is deprecated in 1.0 and will be removed in 1.2. Please use get_feature_names_out instead.\n",
            "  warnings.warn(msg, category=FutureWarning)\n"
          ]
        }
      ],
      "source": [
        "review='দারুণ মানিয়েছে তোমাদের শুভকামনা\t'\n",
        "print(\"Sample Review: \",review)\n",
        "vector = tfidf1.transform([review])\n",
        "df = pd.DataFrame(vector.T.todense(), index=tfidf1.get_feature_names(), columns=[\"tfidf\"])\n",
        "a = df.sort_values(by=[\"tfidf\"],ascending=False)\n",
        "print(a[0:len(review.split())])"
      ]
    },
    {
      "cell_type": "code",
      "execution_count": null,
      "metadata": {
        "colab": {
          "base_uri": "https://localhost:8080/"
        },
        "id": "sbzTAdLBvNAE",
        "outputId": "a4c179d2-4054-4df5-f3cc-1e02c2324e85"
      },
      "outputs": [
        {
          "output_type": "stream",
          "name": "stdout",
          "text": [
            "Shape of X_train: (10964, 26744)\n",
            "Shape of X_test: (1219, 26744)\n",
            "Shape of Y_train: (10964,)\n",
            "Shape of Y_test: (1219,)\n"
          ]
        }
      ],
      "source": [
        "from sklearn.model_selection import train_test_split\n",
        "xtrain,xtest,ytrain,ytest = train_test_split(X,y,train_size = 0.9, test_size = 0.1,random_state =0)\n",
        "\n",
        "print('Shape of X_train:', xtrain.shape)\n",
        "print('Shape of X_test:', xtest.shape)\n",
        "print('Shape of Y_train:', ytrain.shape)\n",
        "print('Shape of Y_test:', ytest.shape)"
      ]
    },
    {
      "cell_type": "code",
      "execution_count": null,
      "metadata": {
        "id": "5RkVWOF8xzns"
      },
      "outputs": [],
      "source": [
        "from sklearn.naive_bayes import MultinomialNB"
      ]
    },
    {
      "cell_type": "code",
      "execution_count": null,
      "metadata": {
        "id": "83gCkOW4viWw",
        "colab": {
          "base_uri": "https://localhost:8080/"
        },
        "outputId": "1fd5de95-7201-40e6-f55a-3b5bc819d28f"
      },
      "outputs": [
        {
          "output_type": "stream",
          "name": "stdout",
          "text": [
            "Accuracy: 55.05%\n"
          ]
        }
      ],
      "source": [
        "mn= MultinomialNB()\n",
        "mn.fit(xtrain, ytrain)\n",
        "prediction = mn.predict(xtest)\n",
        "pred_prob1 = mn.predict_proba(xtest)\n",
        "print(\"Accuracy: {0:.2%}\".format(accuracy_score(prediction, ytest)))"
      ]
    },
    {
      "cell_type": "code",
      "source": [
        "from sklearn.metrics import classification_report\n",
        "print('\\nClassification Report\\n')\n",
        "print(classification_report(ytest, prediction))"
      ],
      "metadata": {
        "colab": {
          "base_uri": "https://localhost:8080/"
        },
        "id": "m7rTMFmejmlF",
        "outputId": "32cfdebd-7d7a-415a-8675-44668eadf003"
      },
      "execution_count": null,
      "outputs": [
        {
          "output_type": "stream",
          "name": "stdout",
          "text": [
            "\n",
            "Classification Report\n",
            "\n",
            "              precision    recall  f1-score   support\n",
            "\n",
            "           0       0.52      0.70      0.59       387\n",
            "           1       0.56      0.59      0.57       416\n",
            "           2       0.60      0.38      0.46       416\n",
            "\n",
            "    accuracy                           0.55      1219\n",
            "   macro avg       0.56      0.55      0.54      1219\n",
            "weighted avg       0.56      0.55      0.54      1219\n",
            "\n"
          ]
        }
      ]
    },
    {
      "cell_type": "code",
      "source": [
        "from sklearn.metrics import confusion_matrix\n",
        "import seaborn as sns"
      ],
      "metadata": {
        "id": "tbe1vRaXjyY7"
      },
      "execution_count": null,
      "outputs": []
    },
    {
      "cell_type": "code",
      "source": [
        "conf_m = confusion_matrix(ytest, prediction)\n",
        "sns.heatmap(conf_m, linewidths=1, annot=True, fmt='g')"
      ],
      "metadata": {
        "colab": {
          "base_uri": "https://localhost:8080/",
          "height": 290
        },
        "id": "p0bfTNoJjqTi",
        "outputId": "2b453a9b-5a1c-4126-c182-79dab5896fe8"
      },
      "execution_count": null,
      "outputs": [
        {
          "output_type": "execute_result",
          "data": {
            "text/plain": [
              "<matplotlib.axes._subplots.AxesSubplot at 0x7fbf7c06c450>"
            ]
          },
          "metadata": {},
          "execution_count": 40
        },
        {
          "output_type": "display_data",
          "data": {
            "text/plain": [
              "<Figure size 432x288 with 2 Axes>"
            ],
            "image/png": "[encoded data removed]"
          },
          "metadata": {}
        }
      ]
    },
    {
      "cell_type": "code",
      "source": [
        "from sklearn.metrics import roc_curve\n",
        "from sklearn import metrics\n",
        "from sklearn.multiclass import OneVsRestClassifier"
      ],
      "metadata": {
        "id": "CART6kH5jqWa"
      },
      "execution_count": null,
      "outputs": []
    },
    {
      "cell_type": "code",
      "source": [
        "fpr = {}\n",
        "tpr = {}\n",
        "thresh ={}\n",
        "n_class = 3"
      ],
      "metadata": {
        "id": "O8DE3qJPjqe2"
      },
      "execution_count": null,
      "outputs": []
    },
    {
      "cell_type": "code",
      "source": [
        "for i in range(n_class):    \n",
        "    fpr[i], tpr[i], thresh[i] = roc_curve(ytest, pred_prob1[:,i], pos_label=i)"
      ],
      "metadata": {
        "id": "1nTc7BWCkEK3"
      },
      "execution_count": null,
      "outputs": []
    },
    {
      "cell_type": "code",
      "source": [
        "pred_prob1 = mn.predict_proba(xtest)[:,1]"
      ],
      "metadata": {
        "id": "HwzWFVY-kJbR"
      },
      "execution_count": null,
      "outputs": []
    },
    {
      "cell_type": "code",
      "source": [
        "fpr1 , tpr1, thresholds1 =metrics.roc_curve(ytest, pred_prob1,pos_label=1)"
      ],
      "metadata": {
        "id": "HJlBsWYqkYAm"
      },
      "execution_count": null,
      "outputs": []
    },
    {
      "cell_type": "code",
      "source": [
        "from sklearn.neighbors import KNeighborsClassifier"
      ],
      "metadata": {
        "id": "WLn8dJaZkgtw"
      },
      "execution_count": null,
      "outputs": []
    },
    {
      "cell_type": "code",
      "source": [
        "knn= KNeighborsClassifier(n_neighbors=3, metric = 'minkowski')\n",
        "knn.fit(xtrain, ytrain)\n",
        "prediction = knn.predict(xtest)\n",
        "pred_prob2 = knn.predict_proba(xtest)\n",
        "print(\"Accuracy: {0:.2%}\".format(accuracy_score(prediction, ytest)))"
      ],
      "metadata": {
        "colab": {
          "base_uri": "https://localhost:8080/"
        },
        "id": "z3Zfs63ykrZO",
        "outputId": "fde0a0d4-d755-4cbf-e5fe-d9f8c9aea592"
      },
      "execution_count": null,
      "outputs": [
        {
          "output_type": "stream",
          "name": "stdout",
          "text": [
            "Accuracy: 37.00%\n"
          ]
        }
      ]
    },
    {
      "cell_type": "code",
      "source": [
        "from sklearn.metrics import classification_report\n",
        "print('\\nClassification Report\\n')\n",
        "print(classification_report(ytest, prediction))"
      ],
      "metadata": {
        "colab": {
          "base_uri": "https://localhost:8080/"
        },
        "id": "HcCVqutYl7EP",
        "outputId": "34d74405-6d69-4ef2-b5c6-f5156ea164a9"
      },
      "execution_count": null,
      "outputs": [
        {
          "output_type": "stream",
          "name": "stdout",
          "text": [
            "\n",
            "Classification Report\n",
            "\n",
            "              precision    recall  f1-score   support\n",
            "\n",
            "           0       0.40      0.07      0.12       387\n",
            "           1       0.82      0.06      0.12       416\n",
            "           2       0.35      0.95      0.52       416\n",
            "\n",
            "    accuracy                           0.37      1219\n",
            "   macro avg       0.53      0.36      0.25      1219\n",
            "weighted avg       0.53      0.37      0.26      1219\n",
            "\n"
          ]
        }
      ]
    },
    {
      "cell_type": "code",
      "source": [
        "conf_m = confusion_matrix(ytest, prediction)\n",
        "sns.heatmap(conf_m, linewidths=1, annot=True, fmt='g')"
      ],
      "metadata": {
        "colab": {
          "base_uri": "https://localhost:8080/",
          "height": 290
        },
        "id": "OT9bIam8l_nF",
        "outputId": "e35a81b9-a48d-4c34-9745-01e67dc3736b"
      },
      "execution_count": null,
      "outputs": [
        {
          "output_type": "execute_result",
          "data": {
            "text/plain": [
              "<matplotlib.axes._subplots.AxesSubplot at 0x7fbf7ddefa90>"
            ]
          },
          "metadata": {},
          "execution_count": 49
        },
        {
          "output_type": "display_data",
          "data": {
            "text/plain": [
              "<Figure size 432x288 with 2 Axes>"
            ],
            "image/png": "[encoded data removed]"
          },
          "metadata": {}
        }
      ]
    },
    {
      "cell_type": "code",
      "source": [
        "pred_prob2 = knn.predict_proba(xtest)[:,1]\n",
        "fpr2 , tpr2, thresholds2 =metrics.roc_curve(ytest, pred_prob2,pos_label=1)"
      ],
      "metadata": {
        "id": "kWqma5W4l7ND"
      },
      "execution_count": null,
      "outputs": []
    },
    {
      "cell_type": "code",
      "source": [
        "from sklearn.svm import SVC"
      ],
      "metadata": {
        "id": "DWauOLjYkrcp"
      },
      "execution_count": null,
      "outputs": []
    },
    {
      "cell_type": "code",
      "source": [
        "lsvm= SVC(kernel=\"linear\", probability=True)\n",
        "lsvm.fit(xtrain, ytrain)\n",
        "prediction = lsvm.predict(xtest)\n",
        "pred_prob3 = lsvm.predict_proba(xtest)\n",
        "print(\"Accuracy: {0:.2%}\".format(accuracy_score(prediction, ytest)))"
      ],
      "metadata": {
        "colab": {
          "base_uri": "https://localhost:8080/"
        },
        "id": "pzBiQH0vkrg7",
        "outputId": "662913df-c2a2-4ebd-e691-9f71ac40c538"
      },
      "execution_count": null,
      "outputs": [
        {
          "output_type": "stream",
          "name": "stdout",
          "text": [
            "Accuracy: 56.52%\n"
          ]
        }
      ]
    },
    {
      "cell_type": "code",
      "source": [
        "print('\\nClassification Report\\n')\n",
        "print(classification_report(ytest, prediction))"
      ],
      "metadata": {
        "colab": {
          "base_uri": "https://localhost:8080/"
        },
        "id": "gAyrYW_Vkrju",
        "outputId": "32e56a25-9d73-496e-9b79-5ee81d42e3f4"
      },
      "execution_count": null,
      "outputs": [
        {
          "output_type": "stream",
          "name": "stdout",
          "text": [
            "\n",
            "Classification Report\n",
            "\n",
            "              precision    recall  f1-score   support\n",
            "\n",
            "           0       0.54      0.63      0.58       387\n",
            "           1       0.61      0.52      0.56       416\n",
            "           2       0.55      0.55      0.55       416\n",
            "\n",
            "    accuracy                           0.57      1219\n",
            "   macro avg       0.57      0.57      0.57      1219\n",
            "weighted avg       0.57      0.57      0.56      1219\n",
            "\n"
          ]
        }
      ]
    },
    {
      "cell_type": "code",
      "source": [
        "conf_m = confusion_matrix(ytest, prediction)\n",
        "sns.heatmap(conf_m, linewidths=1, annot=True, fmt='g')"
      ],
      "metadata": {
        "colab": {
          "base_uri": "https://localhost:8080/",
          "height": 290
        },
        "id": "_jJOCGGnqfbr",
        "outputId": "185945a3-a970-4bbf-856b-e6cc0908f77e"
      },
      "execution_count": null,
      "outputs": [
        {
          "output_type": "execute_result",
          "data": {
            "text/plain": [
              "<matplotlib.axes._subplots.AxesSubplot at 0x7fbf7bd9d550>"
            ]
          },
          "metadata": {},
          "execution_count": 54
        },
        {
          "output_type": "display_data",
          "data": {
            "text/plain": [
              "<Figure size 432x288 with 2 Axes>"
            ],
            "image/png": "[encoded data removed]"
          },
          "metadata": {}
        }
      ]
    },
    {
      "cell_type": "code",
      "source": [
        "pred_prob3 = mn.predict_proba(xtest)[:,1]\n",
        "fpr3 , tpr3, thresholds3 =metrics.roc_curve(ytest, pred_prob3,pos_label=1)"
      ],
      "metadata": {
        "id": "YLLnglWXqijw"
      },
      "execution_count": null,
      "outputs": []
    },
    {
      "cell_type": "code",
      "source": [
        "ksvm= SVC(kernel = 'rbf',probability=True)\n",
        "ksvm.fit(xtrain, ytrain)\n",
        "prediction = ksvm.predict(xtest)\n",
        "pred_prob4 = ksvm.predict_proba(xtest)\n",
        "print(\"Accuracy: {0:.2%}\".format(accuracy_score(prediction, ytest)))"
      ],
      "metadata": {
        "colab": {
          "base_uri": "https://localhost:8080/"
        },
        "id": "i9K4li3sq3CZ",
        "outputId": "ec4e79ab-fc13-4717-e591-e39e46023a67"
      },
      "execution_count": null,
      "outputs": [
        {
          "output_type": "stream",
          "name": "stdout",
          "text": [
            "Accuracy: 56.52%\n"
          ]
        }
      ]
    },
    {
      "cell_type": "code",
      "source": [
        "print('\\nClassification Report\\n')\n",
        "print(classification_report(ytest, prediction))"
      ],
      "metadata": {
        "colab": {
          "base_uri": "https://localhost:8080/"
        },
        "id": "xMnuqGZyvU5y",
        "outputId": "c7a740d2-013a-4701-a0f9-a4580660e911"
      },
      "execution_count": null,
      "outputs": [
        {
          "output_type": "stream",
          "name": "stdout",
          "text": [
            "\n",
            "Classification Report\n",
            "\n",
            "              precision    recall  f1-score   support\n",
            "\n",
            "           0       0.56      0.62      0.59       387\n",
            "           1       0.65      0.48      0.55       416\n",
            "           2       0.52      0.60      0.56       416\n",
            "\n",
            "    accuracy                           0.57      1219\n",
            "   macro avg       0.58      0.57      0.56      1219\n",
            "weighted avg       0.58      0.57      0.56      1219\n",
            "\n"
          ]
        }
      ]
    },
    {
      "cell_type": "code",
      "source": [
        "conf_m = confusion_matrix(ytest, prediction)\n",
        "sns.heatmap(conf_m, linewidths=1, annot=True, fmt='g')"
      ],
      "metadata": {
        "colab": {
          "base_uri": "https://localhost:8080/",
          "height": 295
        },
        "id": "uPD4nD-lw6ha",
        "outputId": "4a8337c1-7bac-4efc-9f0b-e630fe5b909e"
      },
      "execution_count": null,
      "outputs": [
        {
          "output_type": "execute_result",
          "data": {
            "text/plain": [
              "<matplotlib.axes._subplots.AxesSubplot at 0x7fbf7d352f50>"
            ]
          },
          "metadata": {},
          "execution_count": 58
        },
        {
          "output_type": "display_data",
          "data": {
            "text/plain": [
              "<Figure size 432x288 with 2 Axes>"
            ],
            "image/png": "[encoded data removed]"
          },
          "metadata": {}
        }
      ]
    },
    {
      "cell_type": "code",
      "source": [
        "pred_prob4 = ksvm.predict_proba(xtest)[:,1]\n",
        "fpr4 , tpr4, thresholds4 =metrics.roc_curve(ytest, pred_prob4,pos_label=1)"
      ],
      "metadata": {
        "id": "3mj_Ts-gw96X"
      },
      "execution_count": null,
      "outputs": []
    },
    {
      "cell_type": "code",
      "source": [
        "from sklearn.tree import DecisionTreeClassifier"
      ],
      "metadata": {
        "id": "h3sum4J2xQld"
      },
      "execution_count": null,
      "outputs": []
    },
    {
      "cell_type": "code",
      "source": [
        "dt = DecisionTreeClassifier()\n",
        "dt.fit(xtrain, ytrain)\n",
        "prediction = dt.predict(xtest)\n",
        "pred_prob5 = dt.predict_proba(xtest)\n",
        "print(\"Accuracy: {0:.2%}\".format(accuracy_score(prediction, ytest)))"
      ],
      "metadata": {
        "colab": {
          "base_uri": "https://localhost:8080/"
        },
        "id": "HTlYXwKyxXVj",
        "outputId": "f1eda9a7-c863-44ed-d05a-7e8a33d220f3"
      },
      "execution_count": null,
      "outputs": [
        {
          "output_type": "stream",
          "name": "stdout",
          "text": [
            "Accuracy: 50.37%\n"
          ]
        }
      ]
    },
    {
      "cell_type": "code",
      "source": [
        "print('\\nClassification Report\\n')\n",
        "print(classification_report(ytest, prediction))"
      ],
      "metadata": {
        "colab": {
          "base_uri": "https://localhost:8080/"
        },
        "id": "gnl6VAvOy8Sw",
        "outputId": "71c2c458-6596-4202-ee9a-aa7f64c96efc"
      },
      "execution_count": null,
      "outputs": [
        {
          "output_type": "stream",
          "name": "stdout",
          "text": [
            "\n",
            "Classification Report\n",
            "\n",
            "              precision    recall  f1-score   support\n",
            "\n",
            "           0       0.48      0.50      0.49       387\n",
            "           1       0.55      0.49      0.51       416\n",
            "           2       0.49      0.52      0.50       416\n",
            "\n",
            "    accuracy                           0.50      1219\n",
            "   macro avg       0.51      0.50      0.50      1219\n",
            "weighted avg       0.51      0.50      0.50      1219\n",
            "\n"
          ]
        }
      ]
    },
    {
      "cell_type": "code",
      "source": [
        "conf_m = confusion_matrix(ytest, prediction)\n",
        "sns.heatmap(conf_m, linewidths=1, annot=True, fmt='g')"
      ],
      "metadata": {
        "colab": {
          "base_uri": "https://localhost:8080/",
          "height": 290
        },
        "id": "mImC0G9zy-0K",
        "outputId": "edab468d-205d-44f3-c76b-a145c2cd63bb"
      },
      "execution_count": null,
      "outputs": [
        {
          "output_type": "execute_result",
          "data": {
            "text/plain": [
              "<matplotlib.axes._subplots.AxesSubplot at 0x7fbf7bd63c50>"
            ]
          },
          "metadata": {},
          "execution_count": 63
        },
        {
          "output_type": "display_data",
          "data": {
            "text/plain": [
              "<Figure size 432x288 with 2 Axes>"
            ],
            "image/png": "[encoded data removed]"
          },
          "metadata": {}
        }
      ]
    },
    {
      "cell_type": "code",
      "source": [
        "pred_prob5 = dt.predict_proba(xtest)[:,1]\n",
        "fpr5 , tpr5, thresholds5 =metrics.roc_curve(ytest, pred_prob5,pos_label=1)"
      ],
      "metadata": {
        "id": "zIgGMyQDzCOH"
      },
      "execution_count": null,
      "outputs": []
    },
    {
      "cell_type": "code",
      "source": [
        "from sklearn.ensemble import RandomForestClassifier"
      ],
      "metadata": {
        "id": "ugbn0RLfznI7"
      },
      "execution_count": null,
      "outputs": []
    },
    {
      "cell_type": "code",
      "source": [
        "rf = RandomForestClassifier(n_estimators=100, criterion ='entropy', random_state = 0)\n",
        "rf.fit(xtrain, ytrain)\n",
        "prediction = rf.predict(xtest)\n",
        "pred_prob6 = rf.predict_proba(xtest)\n",
        "print(\"Accuracy: {0:.2%}\".format(accuracy_score(prediction, ytest)))\n"
      ],
      "metadata": {
        "colab": {
          "base_uri": "https://localhost:8080/"
        },
        "id": "NR0zN56fzwja",
        "outputId": "8a05fcf8-b25e-4731-c831-bf304c5c9a59"
      },
      "execution_count": null,
      "outputs": [
        {
          "output_type": "stream",
          "name": "stdout",
          "text": [
            "Accuracy: 52.75%\n"
          ]
        }
      ]
    },
    {
      "cell_type": "code",
      "source": [
        "print('\\nClassification Report\\n')\n",
        "print(classification_report(ytest, prediction))"
      ],
      "metadata": {
        "colab": {
          "base_uri": "https://localhost:8080/"
        },
        "id": "FVAOvkKO3mZ0",
        "outputId": "c25e3a0c-88f6-4a25-dc26-620c9f482264"
      },
      "execution_count": null,
      "outputs": [
        {
          "output_type": "stream",
          "name": "stdout",
          "text": [
            "\n",
            "Classification Report\n",
            "\n",
            "              precision    recall  f1-score   support\n",
            "\n",
            "           0       0.51      0.52      0.52       387\n",
            "           1       0.63      0.45      0.52       416\n",
            "           2       0.48      0.61      0.54       416\n",
            "\n",
            "    accuracy                           0.53      1219\n",
            "   macro avg       0.54      0.53      0.53      1219\n",
            "weighted avg       0.54      0.53      0.53      1219\n",
            "\n"
          ]
        }
      ]
    },
    {
      "cell_type": "code",
      "source": [
        "conf_m = confusion_matrix(ytest, prediction)\n",
        "sns.heatmap(conf_m, linewidths=1, annot=True, fmt='g')"
      ],
      "metadata": {
        "colab": {
          "base_uri": "https://localhost:8080/",
          "height": 293
        },
        "id": "DzGWu7f-3oay",
        "outputId": "594391f1-6dd5-4579-f14c-b7f6ff3f103c"
      },
      "execution_count": null,
      "outputs": [
        {
          "output_type": "execute_result",
          "data": {
            "text/plain": [
              "<matplotlib.axes._subplots.AxesSubplot at 0x7fbf7bd32850>"
            ]
          },
          "metadata": {},
          "execution_count": 68
        },
        {
          "output_type": "display_data",
          "data": {
            "text/plain": [
              "<Figure size 432x288 with 2 Axes>"
            ],
            "image/png": "[encoded data removed]"
          },
          "metadata": {}
        }
      ]
    },
    {
      "cell_type": "code",
      "source": [
        "pred_prob6 = rf.predict_proba(xtest)[:,1]\n",
        "fpr6 , tpr6, thresholds6 =metrics.roc_curve(ytest, pred_prob6,pos_label=1)"
      ],
      "metadata": {
        "id": "xVOpqjRs8ilz"
      },
      "execution_count": null,
      "outputs": []
    },
    {
      "cell_type": "code",
      "source": [
        "plt.figure(figsize=(8, 8), dpi=90)\n",
        "\n",
        "plt.plot([0,1],[0,1], 'k--')\n",
        "plt.plot(fpr1, tpr1, label= \"MultinomialNB\" )\n",
        "plt.plot(fpr2, tpr2, label= \"KNeighbors\" )\n",
        "plt.plot(fpr3, tpr3, label= \"LSVC\" )\n",
        "plt.plot(fpr4, tpr4, label= \"SVMClassifier\")\n",
        "plt.plot(fpr5, tpr5, label= \"DT\")\n",
        "plt.plot(fpr6, tpr6, label= \"RF\")\n",
        "\n",
        "\n",
        "plt.legend()\n",
        "plt.xlabel(\"False Positive Rate\")\n",
        "plt.ylabel(\"True Positive Rate\")\n",
        "plt.title('Comperison of Receiver Operating Characteristic')\n",
        "plt.show()"
      ],
      "metadata": {
        "colab": {
          "base_uri": "https://localhost:8080/",
          "height": 657
        },
        "id": "4kjzp8Xt81j5",
        "outputId": "2b48cc73-088b-4108-e082-d81f9d0954ad"
      },
      "execution_count": null,
      "outputs": [
        {
          "output_type": "display_data",
          "data": {
            "text/plain": [
              "<Figure size 720x720 with 1 Axes>"
            ],
            "image/png": "[encoded data removed]"
          },
          "metadata": {}
        }
      ]
    }
  ],
  "metadata": {
    "colab": {
      "provenance": []
    },
    "kernelspec": {
      "display_name": "Python 3",
      "name": "python3"
    },
    "language_info": {
      "name": "python"
    }
  },
  "nbformat": 4,
  "nbformat_minor": 0
}